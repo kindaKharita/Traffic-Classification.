{
 "cells": [
  {
   "cell_type": "markdown",
   "metadata": {},
   "source": [
    "### Importing"
   ]
  },
  {
   "cell_type": "code",
   "execution_count": 1,
   "metadata": {},
   "outputs": [],
   "source": [
    "import numpy as np\n",
    "import matplotlib.pyplot as plt\n",
    "from keras.datasets import mnist\n",
    "from keras.models import Sequential \n",
    "from keras.layers.core import Dense, Activation, Dropout\n",
    "from keras.optimizers import SGD ,Adam\n",
    "from tensorflow.keras.layers import Activation, Dense, Flatten, BatchNormalization, Conv2D, MaxPool2D\n",
    "from keras.utils import np_utils\n",
    "import pickle\n",
    "import tensorflow as tf\n",
    "np.random.seed(1671) # for reproducibility"
   ]
  },
  {
   "cell_type": "markdown",
   "metadata": {},
   "source": [
    "### Data set preparation\n",
    "Data set used in this notebook is provided in this website\n",
    "https://www.kaggle.com/datasets/valentynsichkar/traffic-signs-preprocessed"
   ]
  },
  {
   "cell_type": "code",
   "execution_count": 165,
   "metadata": {},
   "outputs": [
    {
     "name": "stdout",
     "output_type": "stream",
     "text": [
      "(86989, 1, 32, 32)\n",
      "(86989, 43)\n",
      "(4410, 1, 32, 32)\n",
      "(12630, 1, 32, 32)\n"
     ]
    },
    {
     "data": {
      "text/plain": [
       "(32, 32, 1)"
      ]
     },
     "execution_count": 165,
     "metadata": {},
     "output_type": "execute_result"
    }
   ],
   "source": [
    "with open('DATASET/data8.pickle', 'rb') as f:\n",
    "        d = pickle.load(f, encoding='latin1') # dictionary type, we use 'latin1' for python3\n",
    "        # At the same time method 'astype()' used for converting ndarray from int to float\n",
    "        # It is needed to divide float by float when applying Normalization\n",
    "        x_train = d['x_train'].astype(np.float32)   # 4D numpy.ndarray type, for train = (34799, 32, 32, 3)\n",
    "        y_train = d['y_train']                        # 1D numpy.ndarray type, for train = (34799,)\n",
    "        x_valid = d['x_validation'].astype(np.float32)                         # 2D numpy.ndarray type, for train = (34799, 2)\n",
    "        y_valid = d['y_validation']                        # 2D numpy.ndarray type, for train = (34799, 4)\n",
    "        x_test = d['x_test'].astype(np.float32)\n",
    "        y_test = d['y_test']\n",
    "y_train = np_utils.to_categorical(y_train, NB_CLASSES)\n",
    "y_test = np_utils.to_categorical(y_test, NB_CLASSES)\n",
    "y_valid = np_utils.to_categorical(y_valid, NB_CLASSES)\n",
    "print(x_train.shape)\n",
    "print(y_train.shape)\n",
    "print(x_valid.shape)\n",
    "print(x_test.shape)\n",
    "x_train = x_train.reshape(x_train.shape[0], 32, 32, 1)\n",
    "x_test = x_test.reshape(x_test.shape[0], 32, 32, 1)\n",
    "x_valid = x_valid.reshape(x_valid.shape[0], 32, 32, 1)\n",
    "NB_FEATURES = x_train.shape[1:]\n",
    "NB_FEATURES"
   ]
  },
  {
   "cell_type": "markdown",
   "metadata": {},
   "source": [
    "### Configuring the network && the training + validation (phase)"
   ]
  },
  {
   "cell_type": "code",
   "execution_count": 166,
   "metadata": {},
   "outputs": [
    {
     "name": "stdout",
     "output_type": "stream",
     "text": [
      "Model: \"sequential_53\"\n",
      "_________________________________________________________________\n",
      "Layer (type)                 Output Shape              Param #   \n",
      "=================================================================\n",
      "conv2d_132 (Conv2D)          (None, 28, 28, 32)        832       \n",
      "_________________________________________________________________\n",
      "max_pooling2d_82 (MaxPooling (None, 14, 14, 32)        0         \n",
      "_________________________________________________________________\n",
      "dropout_7 (Dropout)          (None, 14, 14, 32)        0         \n",
      "_________________________________________________________________\n",
      "conv2d_133 (Conv2D)          (None, 10, 10, 64)        51264     \n",
      "_________________________________________________________________\n",
      "max_pooling2d_83 (MaxPooling (None, 5, 5, 64)          0         \n",
      "_________________________________________________________________\n",
      "conv2d_134 (Conv2D)          (None, 1, 1, 128)         204928    \n",
      "_________________________________________________________________\n",
      "flatten_37 (Flatten)         (None, 128)               0         \n",
      "_________________________________________________________________\n",
      "dropout_8 (Dropout)          (None, 128)               0         \n",
      "_________________________________________________________________\n",
      "dense_54 (Dense)             (None, 120)               15480     \n",
      "_________________________________________________________________\n",
      "dense_55 (Dense)             (None, 84)                10164     \n",
      "_________________________________________________________________\n",
      "dense_56 (Dense)             (None, 43)                3655      \n",
      "=================================================================\n",
      "Total params: 286,323\n",
      "Trainable params: 286,323\n",
      "Non-trainable params: 0\n",
      "_________________________________________________________________\n",
      "Epoch 1/100\n",
      "680/680 [==============================] - 79s 117ms/step - loss: 1.6957 - accuracy: 0.5011 - val_loss: 0.4198 - val_accuracy: 0.8909\n",
      "Epoch 2/100\n",
      "680/680 [==============================] - 79s 116ms/step - loss: 0.6862 - accuracy: 0.7859 - val_loss: 0.2443 - val_accuracy: 0.9447\n",
      "Epoch 3/100\n",
      "680/680 [==============================] - 79s 116ms/step - loss: 0.4959 - accuracy: 0.8461 - val_loss: 0.1850 - val_accuracy: 0.9510\n",
      "Epoch 4/100\n",
      "680/680 [==============================] - 75s 110ms/step - loss: 0.4081 - accuracy: 0.8735 - val_loss: 0.1404 - val_accuracy: 0.9662\n",
      "Epoch 5/100\n",
      "680/680 [==============================] - 16278s 24s/step - loss: 0.3551 - accuracy: 0.8894 - val_loss: 0.1431 - val_accuracy: 0.9696\n",
      "Epoch 6/100\n",
      "680/680 [==============================] - 62s 91ms/step - loss: 0.3202 - accuracy: 0.9018 - val_loss: 0.1046 - val_accuracy: 0.9737\n",
      "Epoch 7/100\n",
      "680/680 [==============================] - 56s 83ms/step - loss: 0.2900 - accuracy: 0.9097 - val_loss: 0.0909 - val_accuracy: 0.9753\n",
      "Epoch 8/100\n",
      "680/680 [==============================] - 57s 83ms/step - loss: 0.2707 - accuracy: 0.9160 - val_loss: 0.1104 - val_accuracy: 0.9728\n",
      "Epoch 9/100\n",
      "680/680 [==============================] - 58s 86ms/step - loss: 0.2526 - accuracy: 0.9224 - val_loss: 0.1123 - val_accuracy: 0.9712\n",
      "Epoch 10/100\n",
      "680/680 [==============================] - 61s 90ms/step - loss: 0.2331 - accuracy: 0.9291 - val_loss: 0.0862 - val_accuracy: 0.9776\n",
      "Epoch 11/100\n",
      "680/680 [==============================] - 56s 83ms/step - loss: 0.2308 - accuracy: 0.9298 - val_loss: 0.1237 - val_accuracy: 0.9696\n",
      "Epoch 12/100\n",
      "680/680 [==============================] - 57s 84ms/step - loss: 0.2166 - accuracy: 0.9326 - val_loss: 0.1225 - val_accuracy: 0.9703\n",
      "Epoch 13/100\n",
      "680/680 [==============================] - 57s 84ms/step - loss: 0.2082 - accuracy: 0.9351 - val_loss: 0.0969 - val_accuracy: 0.9746\n",
      "Epoch 14/100\n",
      "680/680 [==============================] - 57s 84ms/step - loss: 0.1967 - accuracy: 0.9393 - val_loss: 0.0725 - val_accuracy: 0.9805\n",
      "Epoch 15/100\n",
      "680/680 [==============================] - 57s 84ms/step - loss: 0.1960 - accuracy: 0.9395 - val_loss: 0.1044 - val_accuracy: 0.9778\n",
      "Epoch 16/100\n",
      "680/680 [==============================] - 57s 84ms/step - loss: 0.1881 - accuracy: 0.9437 - val_loss: 0.0782 - val_accuracy: 0.9789\n",
      "Epoch 17/100\n",
      "680/680 [==============================] - 57s 84ms/step - loss: 0.1830 - accuracy: 0.9439 - val_loss: 0.0967 - val_accuracy: 0.9769\n",
      "Epoch 18/100\n",
      "680/680 [==============================] - 57s 84ms/step - loss: 0.1814 - accuracy: 0.9446 - val_loss: 0.0733 - val_accuracy: 0.9782\n",
      "Epoch 19/100\n",
      "680/680 [==============================] - 57s 84ms/step - loss: 0.1758 - accuracy: 0.9471 - val_loss: 0.0813 - val_accuracy: 0.9769\n",
      "Epoch 20/100\n",
      "680/680 [==============================] - 57s 84ms/step - loss: 0.1692 - accuracy: 0.9492 - val_loss: 0.0995 - val_accuracy: 0.9751\n",
      "Epoch 21/100\n",
      "680/680 [==============================] - 57s 84ms/step - loss: 0.1643 - accuracy: 0.9502 - val_loss: 0.0810 - val_accuracy: 0.9766\n",
      "Epoch 22/100\n",
      "680/680 [==============================] - 58s 85ms/step - loss: 0.1669 - accuracy: 0.9493 - val_loss: 0.0736 - val_accuracy: 0.9805\n",
      "Epoch 23/100\n",
      "680/680 [==============================] - 57s 83ms/step - loss: 0.1603 - accuracy: 0.9525 - val_loss: 0.0792 - val_accuracy: 0.9798\n",
      "Epoch 24/100\n",
      "680/680 [==============================] - 57s 83ms/step - loss: 0.1577 - accuracy: 0.9526 - val_loss: 0.0833 - val_accuracy: 0.9821\n",
      "Epoch 25/100\n",
      "680/680 [==============================] - 57s 83ms/step - loss: 0.1515 - accuracy: 0.9537 - val_loss: 0.0818 - val_accuracy: 0.9798\n",
      "Epoch 26/100\n",
      "680/680 [==============================] - 56s 82ms/step - loss: 0.1495 - accuracy: 0.9553 - val_loss: 0.1030 - val_accuracy: 0.9764\n",
      "Epoch 27/100\n",
      "680/680 [==============================] - 56s 82ms/step - loss: 0.1482 - accuracy: 0.9557 - val_loss: 0.0603 - val_accuracy: 0.9832\n",
      "Epoch 28/100\n",
      "680/680 [==============================] - 56s 82ms/step - loss: 0.1487 - accuracy: 0.9554 - val_loss: 0.1169 - val_accuracy: 0.9785\n",
      "Epoch 29/100\n",
      "680/680 [==============================] - 56s 82ms/step - loss: 0.1441 - accuracy: 0.9563 - val_loss: 0.0657 - val_accuracy: 0.9837\n",
      "Epoch 30/100\n",
      "680/680 [==============================] - 56s 83ms/step - loss: 0.1420 - accuracy: 0.9571 - val_loss: 0.0753 - val_accuracy: 0.9798\n",
      "Epoch 31/100\n",
      "680/680 [==============================] - 56s 82ms/step - loss: 0.1378 - accuracy: 0.9585 - val_loss: 0.0730 - val_accuracy: 0.9778\n",
      "Epoch 32/100\n",
      "680/680 [==============================] - 56s 82ms/step - loss: 0.1370 - accuracy: 0.9588 - val_loss: 0.0599 - val_accuracy: 0.9850\n",
      "Epoch 33/100\n",
      "680/680 [==============================] - 56s 83ms/step - loss: 0.1353 - accuracy: 0.9598 - val_loss: 0.0944 - val_accuracy: 0.9791\n",
      "Epoch 34/100\n",
      "680/680 [==============================] - 56s 83ms/step - loss: 0.1371 - accuracy: 0.9592 - val_loss: 0.1027 - val_accuracy: 0.9810\n",
      "Epoch 35/100\n",
      "680/680 [==============================] - 56s 82ms/step - loss: 0.1328 - accuracy: 0.9603 - val_loss: 0.0772 - val_accuracy: 0.9787\n",
      "Epoch 36/100\n",
      "680/680 [==============================] - 56s 82ms/step - loss: 0.1335 - accuracy: 0.9603 - val_loss: 0.0641 - val_accuracy: 0.9819\n",
      "Epoch 37/100\n",
      "680/680 [==============================] - 57s 83ms/step - loss: 0.1331 - accuracy: 0.9605 - val_loss: 0.0844 - val_accuracy: 0.9769\n",
      "Epoch 38/100\n",
      "680/680 [==============================] - 56s 82ms/step - loss: 0.1292 - accuracy: 0.9616 - val_loss: 0.0648 - val_accuracy: 0.9812\n",
      "Epoch 39/100\n",
      "680/680 [==============================] - 59s 86ms/step - loss: 0.1304 - accuracy: 0.9612 - val_loss: 0.0880 - val_accuracy: 0.9782\n",
      "Epoch 40/100\n",
      "680/680 [==============================] - 56s 82ms/step - loss: 0.1272 - accuracy: 0.9615 - val_loss: 0.0733 - val_accuracy: 0.9807\n",
      "Epoch 41/100\n",
      "680/680 [==============================] - 56s 83ms/step - loss: 0.1271 - accuracy: 0.9625 - val_loss: 0.0501 - val_accuracy: 0.9846\n",
      "Epoch 42/100\n",
      "680/680 [==============================] - 56s 82ms/step - loss: 0.1245 - accuracy: 0.9632 - val_loss: 0.0527 - val_accuracy: 0.9848\n",
      "Epoch 43/100\n",
      "680/680 [==============================] - 56s 83ms/step - loss: 0.1248 - accuracy: 0.9629 - val_loss: 0.0510 - val_accuracy: 0.9850\n",
      "Epoch 44/100\n",
      "680/680 [==============================] - 56s 82ms/step - loss: 0.1232 - accuracy: 0.9638 - val_loss: 0.0608 - val_accuracy: 0.9810\n"
     ]
    },
    {
     "name": "stdout",
     "output_type": "stream",
     "text": [
      "Epoch 45/100\n",
      "680/680 [==============================] - 56s 82ms/step - loss: 0.1246 - accuracy: 0.9632 - val_loss: 0.0565 - val_accuracy: 0.9839\n",
      "Epoch 46/100\n",
      "680/680 [==============================] - 55s 81ms/step - loss: 0.1203 - accuracy: 0.9645 - val_loss: 0.0644 - val_accuracy: 0.9828\n",
      "Epoch 47/100\n",
      "680/680 [==============================] - 56s 82ms/step - loss: 0.1184 - accuracy: 0.9654 - val_loss: 0.0665 - val_accuracy: 0.9814\n",
      "Epoch 48/100\n",
      "680/680 [==============================] - 55s 82ms/step - loss: 0.1234 - accuracy: 0.9640 - val_loss: 0.0625 - val_accuracy: 0.9830\n",
      "Epoch 49/100\n",
      "680/680 [==============================] - 56s 82ms/step - loss: 0.1177 - accuracy: 0.9654 - val_loss: 0.0728 - val_accuracy: 0.9791\n",
      "Epoch 50/100\n",
      "680/680 [==============================] - 56s 82ms/step - loss: 0.1229 - accuracy: 0.9641 - val_loss: 0.0558 - val_accuracy: 0.9853\n",
      "Epoch 51/100\n",
      "680/680 [==============================] - 56s 82ms/step - loss: 0.1179 - accuracy: 0.9658 - val_loss: 0.0554 - val_accuracy: 0.9839\n",
      "Epoch 52/100\n",
      "680/680 [==============================] - 55s 81ms/step - loss: 0.1180 - accuracy: 0.9652 - val_loss: 0.0533 - val_accuracy: 0.9873\n",
      "Epoch 53/100\n",
      "680/680 [==============================] - 56s 82ms/step - loss: 0.1132 - accuracy: 0.9664 - val_loss: 0.0586 - val_accuracy: 0.9834\n",
      "Epoch 54/100\n",
      "680/680 [==============================] - 56s 83ms/step - loss: 0.1131 - accuracy: 0.9669 - val_loss: 0.0566 - val_accuracy: 0.9841\n",
      "Epoch 55/100\n",
      "680/680 [==============================] - 56s 82ms/step - loss: 0.1106 - accuracy: 0.9670 - val_loss: 0.0623 - val_accuracy: 0.9839\n",
      "Epoch 56/100\n",
      "680/680 [==============================] - 55s 81ms/step - loss: 0.1151 - accuracy: 0.9661 - val_loss: 0.0689 - val_accuracy: 0.9823\n",
      "Epoch 57/100\n",
      "680/680 [==============================] - 56s 82ms/step - loss: 0.1124 - accuracy: 0.9666 - val_loss: 0.0579 - val_accuracy: 0.9853\n",
      "Epoch 58/100\n",
      "680/680 [==============================] - 55s 82ms/step - loss: 0.1138 - accuracy: 0.9668 - val_loss: 0.0897 - val_accuracy: 0.9780\n",
      "Epoch 59/100\n",
      "680/680 [==============================] - 56s 82ms/step - loss: 0.1124 - accuracy: 0.9673 - val_loss: 0.0712 - val_accuracy: 0.9805\n",
      "Epoch 60/100\n",
      "680/680 [==============================] - 56s 82ms/step - loss: 0.1122 - accuracy: 0.9676 - val_loss: 0.0524 - val_accuracy: 0.9864\n",
      "Epoch 61/100\n",
      "680/680 [==============================] - 56s 82ms/step - loss: 0.1131 - accuracy: 0.9673 - val_loss: 0.0749 - val_accuracy: 0.9800\n",
      "Epoch 62/100\n",
      "680/680 [==============================] - 56s 82ms/step - loss: 0.1099 - accuracy: 0.9677 - val_loss: 0.0691 - val_accuracy: 0.9819\n",
      "Epoch 63/100\n",
      "680/680 [==============================] - 56s 82ms/step - loss: 0.1077 - accuracy: 0.9685 - val_loss: 0.0618 - val_accuracy: 0.9844\n",
      "Epoch 64/100\n",
      "680/680 [==============================] - 56s 82ms/step - loss: 0.1111 - accuracy: 0.9682 - val_loss: 0.0581 - val_accuracy: 0.9844\n",
      "Epoch 65/100\n",
      "680/680 [==============================] - 56s 82ms/step - loss: 0.1115 - accuracy: 0.9671 - val_loss: 0.0475 - val_accuracy: 0.9873\n",
      "Epoch 66/100\n",
      "680/680 [==============================] - 56s 82ms/step - loss: 0.1052 - accuracy: 0.9695 - val_loss: 0.0524 - val_accuracy: 0.9859\n",
      "Epoch 67/100\n",
      "680/680 [==============================] - 56s 82ms/step - loss: 0.1095 - accuracy: 0.9685 - val_loss: 0.0937 - val_accuracy: 0.9800\n",
      "Epoch 68/100\n",
      "680/680 [==============================] - 56s 82ms/step - loss: 0.1058 - accuracy: 0.9692 - val_loss: 0.1019 - val_accuracy: 0.9800\n",
      "Epoch 69/100\n",
      "680/680 [==============================] - 56s 82ms/step - loss: 0.1061 - accuracy: 0.9695 - val_loss: 0.0697 - val_accuracy: 0.9810\n",
      "Epoch 70/100\n",
      "680/680 [==============================] - 56s 82ms/step - loss: 0.1065 - accuracy: 0.9696 - val_loss: 0.1248 - val_accuracy: 0.9800\n",
      "Epoch 71/100\n",
      "680/680 [==============================] - 56s 82ms/step - loss: 0.1051 - accuracy: 0.9689 - val_loss: 0.0899 - val_accuracy: 0.9810\n",
      "Epoch 72/100\n",
      "680/680 [==============================] - 75s 110ms/step - loss: 0.1049 - accuracy: 0.9701 - val_loss: 0.0790 - val_accuracy: 0.9825\n",
      "Epoch 73/100\n",
      "680/680 [==============================] - 80s 118ms/step - loss: 0.1026 - accuracy: 0.9700 - val_loss: 0.0890 - val_accuracy: 0.9812\n",
      "Epoch 74/100\n",
      "680/680 [==============================] - 80s 118ms/step - loss: 0.1047 - accuracy: 0.9698 - val_loss: 0.1269 - val_accuracy: 0.9803\n",
      "Epoch 75/100\n",
      "680/680 [==============================] - 80s 118ms/step - loss: 0.1073 - accuracy: 0.9695 - val_loss: 0.0502 - val_accuracy: 0.9857\n",
      "Epoch 76/100\n",
      "680/680 [==============================] - 80s 118ms/step - loss: 0.1034 - accuracy: 0.9698 - val_loss: 0.1298 - val_accuracy: 0.9787\n",
      "Epoch 77/100\n",
      "680/680 [==============================] - 80s 118ms/step - loss: 0.1070 - accuracy: 0.9700 - val_loss: 0.1003 - val_accuracy: 0.9798\n",
      "Epoch 78/100\n",
      "680/680 [==============================] - 80s 118ms/step - loss: 0.1037 - accuracy: 0.9697 - val_loss: 0.0567 - val_accuracy: 0.9855\n",
      "Epoch 79/100\n",
      "680/680 [==============================] - 80s 118ms/step - loss: 0.1038 - accuracy: 0.9707 - val_loss: 0.0929 - val_accuracy: 0.9816\n",
      "Epoch 80/100\n",
      "680/680 [==============================] - 80s 118ms/step - loss: 0.1043 - accuracy: 0.9704 - val_loss: 0.0931 - val_accuracy: 0.9803\n",
      "Epoch 81/100\n",
      "680/680 [==============================] - 81s 119ms/step - loss: 0.1016 - accuracy: 0.9714 - val_loss: 0.1079 - val_accuracy: 0.9773\n",
      "Epoch 82/100\n",
      "680/680 [==============================] - 80s 118ms/step - loss: 0.1047 - accuracy: 0.9699 - val_loss: 0.1100 - val_accuracy: 0.9814\n",
      "Epoch 83/100\n",
      "680/680 [==============================] - 80s 118ms/step - loss: 0.1025 - accuracy: 0.9704 - val_loss: 0.0871 - val_accuracy: 0.9807\n",
      "Epoch 84/100\n",
      "680/680 [==============================] - 80s 118ms/step - loss: 0.1046 - accuracy: 0.9699 - val_loss: 0.0896 - val_accuracy: 0.9791\n",
      "Epoch 85/100\n",
      "680/680 [==============================] - 80s 118ms/step - loss: 0.1036 - accuracy: 0.9706 - val_loss: 0.0823 - val_accuracy: 0.9825\n",
      "Epoch 86/100\n",
      "680/680 [==============================] - 80s 118ms/step - loss: 0.1004 - accuracy: 0.9711 - val_loss: 0.0932 - val_accuracy: 0.9812\n",
      "Epoch 87/100\n",
      "680/680 [==============================] - 80s 118ms/step - loss: 0.0995 - accuracy: 0.9710 - val_loss: 0.1525 - val_accuracy: 0.9789\n",
      "Epoch 88/100\n",
      "680/680 [==============================] - 81s 118ms/step - loss: 0.1035 - accuracy: 0.9707 - val_loss: 0.1243 - val_accuracy: 0.9800\n",
      "Epoch 89/100\n",
      "680/680 [==============================] - 80s 118ms/step - loss: 0.0984 - accuracy: 0.9732 - val_loss: 0.0975 - val_accuracy: 0.9803\n",
      "Epoch 90/100\n",
      "680/680 [==============================] - 80s 118ms/step - loss: 0.1041 - accuracy: 0.9708 - val_loss: 0.0988 - val_accuracy: 0.9814\n",
      "Epoch 91/100\n",
      "680/680 [==============================] - 80s 118ms/step - loss: 0.0992 - accuracy: 0.9720 - val_loss: 0.1064 - val_accuracy: 0.9823\n",
      "Epoch 92/100\n",
      "680/680 [==============================] - 80s 118ms/step - loss: 0.0982 - accuracy: 0.9719 - val_loss: 0.1308 - val_accuracy: 0.9789\n",
      "Epoch 93/100\n",
      "680/680 [==============================] - 80s 118ms/step - loss: 0.0980 - accuracy: 0.9721 - val_loss: 0.0821 - val_accuracy: 0.9839\n",
      "Epoch 94/100\n",
      "680/680 [==============================] - 80s 118ms/step - loss: 0.0958 - accuracy: 0.9727 - val_loss: 0.0855 - val_accuracy: 0.9830\n",
      "Epoch 95/100\n",
      "680/680 [==============================] - 80s 118ms/step - loss: 0.1028 - accuracy: 0.9717 - val_loss: 0.1427 - val_accuracy: 0.9812\n",
      "Epoch 96/100\n",
      "680/680 [==============================] - 80s 118ms/step - loss: 0.1041 - accuracy: 0.9707 - val_loss: 0.1169 - val_accuracy: 0.9810\n",
      "Epoch 97/100\n",
      "680/680 [==============================] - 80s 118ms/step - loss: 0.0974 - accuracy: 0.9722 - val_loss: 0.0964 - val_accuracy: 0.9807\n",
      "Epoch 98/100\n",
      "680/680 [==============================] - 81s 118ms/step - loss: 0.0996 - accuracy: 0.9719 - val_loss: 0.1183 - val_accuracy: 0.9823\n",
      "Epoch 99/100\n",
      "680/680 [==============================] - 81s 119ms/step - loss: 0.0953 - accuracy: 0.9737 - val_loss: 0.1794 - val_accuracy: 0.9814\n",
      "Epoch 100/100\n",
      "680/680 [==============================] - 80s 118ms/step - loss: 0.0924 - accuracy: 0.9735 - val_loss: 0.1641 - val_accuracy: 0.9807\n"
     ]
    }
   ],
   "source": [
    "\n",
    "NB_CLASSES= 43\n",
    "model = Sequential()\n",
    "model.add(Conv2D(32, kernel_size=(5, 5), activation='relu', padding = 'valid',input_shape=(NB_FEATURES), data_format='channels_last'))\n",
    "model.add(MaxPool2D(pool_size=(2, 2), strides=2))\n",
    "model.add(Dropout(0.75))\n",
    "model.add(Conv2D(64, kernel_size=(5, 5), activation='relu', padding = 'valid'))\n",
    "model.add(MaxPool2D(pool_size=(2, 2),strides=2))\n",
    "model.add(Conv2D(128, kernel_size=(5, 5), activation='relu', padding = 'valid'))\n",
    "model.add(Flatten())\n",
    "model.add(Dropout(0.5))\n",
    "model.add(Dense(units=120, activation='relu'))\n",
    "model.add(Dense(units=84, activation='relu'))\n",
    "model.add(Dense(NB_CLASSES, activation='softmax'))\n",
    "model.summary()\n",
    "\n",
    "model.compile(loss='categorical_crossentropy', optimizer='Adam', metrics=['accuracy'])\n",
    "history=model.fit(x_train, y_train,batch_size=128, epochs=100,verbose=1,validation_data=(x_valid,y_valid))"
   ]
  },
  {
   "cell_type": "markdown",
   "metadata": {},
   "source": [
    "### The test phase"
   ]
  },
  {
   "cell_type": "code",
   "execution_count": 167,
   "metadata": {},
   "outputs": [
    {
     "name": "stdout",
     "output_type": "stream",
     "text": [
      "395/395 [==============================] - 3s 6ms/step - loss: 0.1204 - accuracy: 0.9663\n",
      "Test score: 0.12037160992622375\n",
      "Test accuracy: 0.9663499593734741\n"
     ]
    }
   ],
   "source": [
    "score_2 = model.evaluate(x_test, y_test, verbose=1)\n",
    "print(\"Test score:\", score_2[0])\n",
    "print('Test accuracy:', score_2[1])"
   ]
  },
  {
   "cell_type": "markdown",
   "metadata": {},
   "source": [
    "### the learning+validation curves"
   ]
  },
  {
   "cell_type": "code",
   "execution_count": 168,
   "metadata": {},
   "outputs": [
    {
     "data": {
      "image/png": "[encoded data removed]",
      "text/plain": [
       "<Figure size 432x288 with 1 Axes>"
      ]
     },
     "metadata": {
      "needs_background": "light"
     },
     "output_type": "display_data"
    }
   ],
   "source": [
    "plt.plot(history.history['loss'])\n",
    "plt.plot(history.history['val_loss'])\n",
    "plt.title('model error')\n",
    "plt.ylabel('loss')\n",
    "plt.xlabel('epoch')\n",
    "plt.legend(['train', 'validation'], loc='upper left')\n",
    "plt.show()"
   ]
  },
  {
   "cell_type": "code",
   "execution_count": null,
   "metadata": {},
   "outputs": [],
   "source": []
  }
 ],
 "metadata": {
  "kernelspec": {
   "display_name": "Python 3",
   "language": "python",
   "name": "python3"
  },
  "language_info": {
   "codemirror_mode": {
    "name": "ipython",
    "version": 3
   },
   "file_extension": ".py",
   "mimetype": "text/x-python",
   "name": "python",
   "nbconvert_exporter": "python",
   "pygments_lexer": "ipython3",
   "version": "3.8.3"
  }
 },
 "nbformat": 4,
 "nbformat_minor": 4
}
